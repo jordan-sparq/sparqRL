{
 "cells": [
  {
   "cell_type": "code",
   "execution_count": 2,
   "id": "91548acd-a045-48a5-9cf8-d97b54dd6824",
   "metadata": {},
   "outputs": [],
   "source": [
    "from sparqRL.utils.table import table\n",
    "from sparqRL.environment.environment import discrete_environment\n",
    "from sparqRL.algorithms.value.td import QLearning"
   ]
  },
  {
   "cell_type": "markdown",
   "id": "3ea1826e-5687-4d07-99fb-a8a7b457e731",
   "metadata": {},
   "source": [
    "Test table"
   ]
  },
  {
   "cell_type": "code",
   "execution_count": 3,
   "id": "f7fe1c8c-8ee8-48d8-bbb6-e8b09537478a",
   "metadata": {},
   "outputs": [],
   "source": [
    "tab = table(shape=(1,2,1), initial_value=10)"
   ]
  },
  {
   "cell_type": "markdown",
   "id": "a94e9541-69c8-46aa-84ea-70cc989558a6",
   "metadata": {},
   "source": [
    "Test environment"
   ]
  },
  {
   "cell_type": "code",
   "execution_count": 4,
   "id": "eea83056-fe13-405f-a7e7-79664e14f50c",
   "metadata": {},
   "outputs": [],
   "source": [
    "env = discrete_environment(state_range=[[1,2], [2,10]], action_range=[[10,20]])"
   ]
  },
  {
   "cell_type": "code",
   "execution_count": 5,
   "id": "a640074d-e2b7-4811-95cb-132e1bd81b13",
   "metadata": {},
   "outputs": [],
   "source": [
    "total_dims = env.state_space + env.action_space"
   ]
  },
  {
   "cell_type": "code",
   "execution_count": 6,
   "id": "dde7280b-937f-4382-a69c-dea5e1507de1",
   "metadata": {},
   "outputs": [
    {
     "data": {
      "text/plain": [
       "table(shape=(2, 9, 11), initial_value=-10, _table=<DOK: shape=(2, 9, 11), dtype=float64, nnz=0, fill_value=-10.0>)"
      ]
     },
     "execution_count": 6,
     "metadata": {},
     "output_type": "execute_result"
    }
   ],
   "source": [
    "table(shape = total_dims, initial_value=-10)"
   ]
  },
  {
   "cell_type": "markdown",
   "id": "43d2441f-1535-47fe-a943-0df73993ad00",
   "metadata": {},
   "source": [
    "get min of each state\\\n",
    "This will be what we subtract to convert to an element of the table\n",
    "\n"
   ]
  },
  {
   "cell_type": "code",
   "execution_count": 7,
   "id": "52a6fcb8-c7ca-4c29-9954-e67a990182df",
   "metadata": {},
   "outputs": [
    {
     "data": {
      "text/plain": [
       "[1, 2]"
      ]
     },
     "execution_count": 7,
     "metadata": {},
     "output_type": "execute_result"
    }
   ],
   "source": [
    "[env.state_range[i][0] for i in range(len(env.state_range))]"
   ]
  },
  {
   "cell_type": "code",
   "execution_count": 8,
   "id": "6f4c53bb-3ae6-4149-88ac-5027b6ac5a69",
   "metadata": {},
   "outputs": [
    {
     "data": {
      "text/plain": [
       "array([10.])"
      ]
     },
     "execution_count": 8,
     "metadata": {},
     "output_type": "execute_result"
    }
   ],
   "source": [
    "tab.__getitem__((0,0)).todense()"
   ]
  },
  {
   "cell_type": "code",
   "execution_count": 9,
   "id": "51b6c5f0-9a78-4f72-b356-6b73557af5ce",
   "metadata": {},
   "outputs": [
    {
     "data": {
      "text/plain": [
       "(1, 2, 1)"
      ]
     },
     "execution_count": 9,
     "metadata": {},
     "output_type": "execute_result"
    }
   ],
   "source": [
    "tab.shape"
   ]
  },
  {
   "cell_type": "markdown",
   "id": "3a0c8fc2-f786-4a0c-a48c-e6cb8c61442f",
   "metadata": {},
   "source": [
    "### q learning"
   ]
  },
  {
   "cell_type": "code",
   "execution_count": 10,
   "id": "c17f5e27-8c5a-4aa5-94a3-93809dd91f37",
   "metadata": {},
   "outputs": [],
   "source": [
    "env = discrete_environment(state_range=[[1,2], [2,10]], action_range=[[10,20]])"
   ]
  },
  {
   "cell_type": "code",
   "execution_count": 12,
   "id": "a678d17a-014e-4e0a-a093-0acd6532f20c",
   "metadata": {},
   "outputs": [],
   "source": [
    "q_ = QLearning(env, initial_value=-10)\n",
    "\n",
    "### all other stuff would happen to decide these parameters \n",
    "### then we need to update our q table\n",
    "q_._update(state = (0,0),\n",
    "            action = (0,),\n",
    "            reward = 1,\n",
    "            next_state = (1,1),\n",
    "            absorbing=False,\n",
    "            gamma = 0.1,\n",
    "            alpha = 0.01,      \n",
    "            )"
   ]
  },
  {
   "cell_type": "code",
   "execution_count": null,
   "id": "5b12c249-fe83-415f-b615-2dc4bc623372",
   "metadata": {},
   "outputs": [],
   "source": []
  }
 ],
 "metadata": {
  "kernelspec": {
   "display_name": "env_gal",
   "language": "python",
   "name": "env_gal"
  },
  "language_info": {
   "codemirror_mode": {
    "name": "ipython",
    "version": 3
   },
   "file_extension": ".py",
   "mimetype": "text/x-python",
   "name": "python",
   "nbconvert_exporter": "python",
   "pygments_lexer": "ipython3",
   "version": "3.9.15"
  }
 },
 "nbformat": 4,
 "nbformat_minor": 5
}
